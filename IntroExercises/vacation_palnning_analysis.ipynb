{
 "cells": [
  {
   "cell_type": "markdown",
   "metadata": {},
   "source": [
    "## Importing Library"
   ]
  },
  {
   "cell_type": "code",
   "execution_count": 57,
   "metadata": {},
   "outputs": [],
   "source": [
    "import numpy as np\n",
    "import pandas as pd\n",
    "import matplotlib.pyplot as plt\n",
    "import math"
   ]
  },
  {
   "cell_type": "markdown",
   "metadata": {},
   "source": [
    "## Creating Active and Passive Voice DataFrame"
   ]
  },
  {
   "cell_type": "code",
   "execution_count": 58,
   "metadata": {},
   "outputs": [
    {
     "name": "stdout",
     "output_type": "stream",
     "text": [
      "         Time       Simple         Continuous             Perfect  \\\n",
      "0     Present        I eat        I am eating        I have eaten   \n",
      "1        Past        I ate       I was eating         I had eaten   \n",
      "2      Future   I will eat   I will be eating   I will have eaten   \n",
      "3  PastFuture  I would eat  I would be eating  I would have eaten   \n",
      "\n",
      "                   PerfCont  \n",
      "0        I have been eating  \n",
      "1         I had been eating  \n",
      "2   I will have been eating  \n",
      "3  I would have been eating  \n"
     ]
    }
   ],
   "source": [
    "#This is a 3D array of Active and Passive Voice Positive Forms\n",
    "tenses = np.array([(\"Present\",\"I eat\",\"I am eating\", \"I have eaten\", \"I have been eating\"), \n",
    "                   (\"Past\",\"I ate\",\"I was eating\", \"I had eaten\", \"I had been eating\"),\n",
    "                   (\"Future\",\"I will eat\",\"I will be eating\", \"I will have eaten\", \"I will have been eating\"),\n",
    "                   (\"PastFuture\",\"I would eat\",\"I would be eating\", \"I would have eaten\", \"I would have been eating\")],\n",
    "                   dtype = [(\"Time\", \"U25\"), (\"Simple\", \"U50\"), (\"Continuous\", \"U50\"), (\"Perfect\", \"U50\"), (\"PerfCont\", \"U50\")])\n",
    "tenses_df = pd.DataFrame(tenses)\n",
    "\n",
    "print(tenses_df)\n",
    "\n",
    "# Passive Voice is coming soon"
   ]
  },
  {
   "cell_type": "markdown",
   "metadata": {},
   "source": [
    "## Vacation Planning Analysis\n",
    "### DataFrame Creation"
   ]
  },
  {
   "cell_type": "code",
   "execution_count": 59,
   "metadata": {},
   "outputs": [
    {
     "name": "stdout",
     "output_type": "stream",
     "text": [
      "   Cities  Return Flight  Hotel Per Day  Weekly Car Rent\n",
      "0   Paris            200             20              200\n",
      "1  London            250             30              120\n",
      "2   Dubai            370             15               80\n",
      "3  Mumbai            450             10               70\n",
      "Cities             Paris\n",
      "Return Flight        200\n",
      "Hotel Per Day         20\n",
      "Weekly Car Rent      200\n",
      "Name: 0, dtype: object\n",
      "250\n",
      "   Cities  Return Flight  Hotel Per Day  Weekly Car Rent\n",
      "0   Paris            200             20              200\n",
      "1  London            250             30              120\n",
      "2   Dubai            370             15               80\n",
      "3  Mumbai            450             10               70\n",
      "Cities             Paris\n",
      "Return Flight        200\n",
      "Hotel Per Day         20\n",
      "Weekly Car Rent      200\n",
      "Name: 0, dtype: object\n",
      "250 \n",
      "\n",
      "   Cities Return Flight Hotel Per Day Weekly Car Rent\n",
      "1   Paris           200            20             200\n",
      "2  London           250            30             120\n",
      "3   Dubai           370            15              80\n",
      "4  Mumbai           450            10              70\n"
     ]
    }
   ],
   "source": [
    "# Creating the DataFrame\n",
    "trip = np.array([(\"Paris\", 200, 20, 200),(\"London\", 250, 30, 120),\n",
    "                 (\"Dubai\", 370, 15, 80),(\"Mumbai\", 450, 10, 70),],\n",
    "                 dtype = [(\"Cities\", \"U16\"),(\"Return Flight\", \"<i4\"),(\"Hotel Per Day\", \"<i4\"),(\"Weekly Car Rent\", \"<i4\")])\n",
    "trip_df = pd.DataFrame(trip)\n",
    "\n",
    "print(trip_df)\n",
    "print(trip_df.loc[0])\n",
    "print(trip_df.at[1, \"Return Flight\"])\n",
    "\n",
    "# Or you can do like this\n",
    "trip_alt = np.array([(\"Paris\", 200, 20, 200),(\"London\", 250, 30, 120),\n",
    "                 (\"Dubai\", 370, 15, 80),(\"Mumbai\", 450, 10, 70)])\n",
    "trip_df_alt = pd.DataFrame(trip_alt, index=(1,2,3,4), columns=(\"Cities\", \"Return Flight\", \"Hotel Per Day\", \"Weekly Car Rent\"))\n",
    "\n",
    "print(trip_df)\n",
    "print(trip_df.loc[0])\n",
    "print(trip_df.at[1, \"Return Flight\"], \"\\n\")\n",
    "\n",
    "print(trip_df_alt)"
   ]
  },
  {
   "cell_type": "markdown",
   "metadata": {},
   "source": [
    "### Function Creation\n",
    "Cheapest City Function"
   ]
  },
  {
   "cell_type": "code",
   "execution_count": 60,
   "metadata": {},
   "outputs": [
    {
     "name": "stdout",
     "output_type": "stream",
     "text": [
      "Cities\n",
      "Return Flight\n",
      "Hotel Per Day\n",
      "Weekly Car Rent\n"
     ]
    }
   ],
   "source": [
    "# Cheapest City to visit for n days\n",
    "def cost_of_trip(duration, flight, hotel, car):\n",
    "    costs = flight+(duration*hotel)+(math.ceil(duration/7)*car)\n",
    "    return costs\n",
    "\n",
    "for city in trip_df.loc[:]:\n",
    "    print(city)"
   ]
  },
  {
   "cell_type": "markdown",
   "metadata": {},
   "source": [
    "Vacation Worth Function"
   ]
  },
  {
   "cell_type": "code",
   "execution_count": 61,
   "metadata": {},
   "outputs": [],
   "source": [
    "# The most beneficial vacation\n",
    "def worth_of_trip(budget, flight, hotel, car):\n",
    "    worth = (budget - flight) / (hotel + (car/7))\n",
    "    worth = math.ceil(worth)\n",
    "    return worth"
   ]
  },
  {
   "cell_type": "markdown",
   "metadata": {},
   "source": [
    "### What is the cheapest city to visit in n days?\n",
    "Searching for the costs of each city"
   ]
  },
  {
   "cell_type": "code",
   "execution_count": 73,
   "metadata": {},
   "outputs": [
    {
     "name": "stdout",
     "output_type": "stream",
     "text": [
      "The total trip cost to Paris in 14 days is $880\n",
      "The total trip cost to London in 14 days is $910\n",
      "The total trip cost to Dubai in 14 days is $740\n",
      "The total trip cost to Mumbai in 14 days is $730 \n",
      "\n",
      "The total trip cost to Paris in 14 days is $880\n",
      "The total trip cost to London in 14 days is $910\n",
      "The total trip cost to Dubai in 14 days is $740\n",
      "The total trip cost to Mumbai in 14 days is $730\n"
     ]
    },
    {
     "data": {
      "text/plain": [
       "Text(0.5, 1.0, 'Cheapest city to visit in 14 days')"
      ]
     },
     "execution_count": 73,
     "metadata": {},
     "output_type": "execute_result"
    },
    {
     "data": {
      "image/png": "[encoded data removed]",
      "text/plain": [
       "<Figure size 864x432 with 1 Axes>"
      ]
     },
     "metadata": {
      "needs_background": "light"
     },
     "output_type": "display_data"
    }
   ],
   "source": [
    "# Trip Variabels\n",
    "duration = 14    # in days\n",
    "\n",
    "# Execute the function\n",
    "tripParis = cost_of_trip(duration, trip_df.at[0, \"Return Flight\"], trip_df.at[0, \"Hotel Per Day\"], trip_df.at[0, \"Weekly Car Rent\"])\n",
    "tripLondon = cost_of_trip(duration, trip_df.at[1, \"Return Flight\"], trip_df.at[1, \"Hotel Per Day\"], trip_df.at[1, \"Weekly Car Rent\"])\n",
    "tripDubai = cost_of_trip(duration, trip_df.at[2, \"Return Flight\"], trip_df.at[2, \"Hotel Per Day\"], trip_df.at[2, \"Weekly Car Rent\"])\n",
    "tripMumbai = cost_of_trip(duration, trip_df.at[3, \"Return Flight\"], trip_df.at[3, \"Hotel Per Day\"], trip_df.at[3, \"Weekly Car Rent\"])\n",
    "\n",
    "# Print the function\n",
    "print(\"The total trip cost to Paris in {} days is ${}\".format(duration, tripParis))\n",
    "print(\"The total trip cost to London in {} days is ${}\".format(duration, tripLondon))\n",
    "print(\"The total trip cost to Dubai in {} days is ${}\".format(duration, tripDubai))\n",
    "print(\"The total trip cost to Mumbai in {} days is ${}\".format(duration, tripMumbai), \"\\n\")\n",
    "\n",
    "# Or you can run it like this\n",
    "costsPlot = []\n",
    "for x in range((len(trip_df))):\n",
    "    tripCosts = cost_of_trip(duration, trip_df.at[x, \"Return Flight\"], trip_df.at[x, \"Hotel Per Day\"], trip_df.at[x, \"Weekly Car Rent\"])\n",
    "    print(\"The total trip cost to {} in {} days is ${}\".format(trip_df.at[x, \"Cities\"], duration, tripCosts))\n",
    "    costsPlot.append(tripCosts)\n",
    "\n",
    "# Plot the data\n",
    "plt.figure(figsize=(12,6))\n",
    "plt.plot(trip_df[\"Cities\"], costsPlot, 'x-c')\n",
    "plt.xlabel(\"Cities\")\n",
    "plt.ylabel(\"Cost of Trip\")\n",
    "plt.grid(True)\n",
    "plt.title(\"Cheapest city to visit in {} days\".format(duration))"
   ]
  },
  {
   "cell_type": "markdown",
   "metadata": {},
   "source": [
    "Comparing which trip is the cheapest one"
   ]
  },
  {
   "cell_type": "code",
   "execution_count": 63,
   "metadata": {},
   "outputs": [
    {
     "name": "stdout",
     "output_type": "stream",
     "text": [
      "The trip to Mumbai is the cheapest one in 14 days\n"
     ]
    }
   ],
   "source": [
    "# Compare which trip is the cheapest one\n",
    "if tripParis < tripLondon and tripParis < tripDubai and tripParis < tripMumbai:\n",
    "    print(\"The trip to Paris is the cheapest one in {} days\".format(duration))\n",
    "elif tripLondon < tripParis and tripLondon < tripDubai and tripLondon < tripMumbai:\n",
    "    print(\"The trip to London is the cheapest one in {} days\".format(duration))\n",
    "elif tripDubai < tripLondon and tripDubai < tripParis and tripDubai < tripMumbai:\n",
    "    print(\"The trip to Dubai is the cheapest one in {} days\".format(duration))\n",
    "elif tripMumbai < tripLondon and tripMumbai < tripDubai and tripMumbai < tripParis:\n",
    "    print(\"The trip to Mumbai is the cheapest one in {} days\".format(duration))"
   ]
  },
  {
   "cell_type": "markdown",
   "metadata": {},
   "source": [
    "### If you have budget n dollars, how long can you spent in days for each city?\n",
    "Searching for vacation worth"
   ]
  },
  {
   "cell_type": "code",
   "execution_count": 71,
   "metadata": {},
   "outputs": [
    {
     "name": "stdout",
     "output_type": "stream",
     "text": [
      "If you have $1000 of budget, you can stay 17 days in Paris\n",
      "If you have $1000 of budget, you can stay 16 days in London\n",
      "If you have $1000 of budget, you can stay 24 days in Dubai\n",
      "If you have $1000 of budget, you can stay 28 days in Mumbai \n",
      "\n",
      "If you have budget of $1000, you can stay 17 days in Paris\n",
      "If you have budget of $1000, you can stay 16 days in London\n",
      "If you have budget of $1000, you can stay 24 days in Dubai\n",
      "If you have budget of $1000, you can stay 28 days in Mumbai\n"
     ]
    },
    {
     "data": {
      "text/plain": [
       "Text(0.5, 1.0, 'Number of Days To Spent If You Have $1000')"
      ]
     },
     "execution_count": 71,
     "metadata": {},
     "output_type": "execute_result"
    },
    {
     "data": {
      "image/png": "[encoded data removed]",
      "text/plain": [
       "<Figure size 864x432 with 1 Axes>"
      ]
     },
     "metadata": {
      "needs_background": "light"
     },
     "output_type": "display_data"
    }
   ],
   "source": [
    "# Trip Variabels\n",
    "budget = 1000    # in dollar\n",
    "\n",
    "parisWorth = worth_of_trip(budget, trip_df.at[0, \"Return Flight\"], trip_df.at[0, \"Hotel Per Day\"], trip_df.at[0, \"Weekly Car Rent\"])\n",
    "londonWorth = worth_of_trip(budget, trip_df.at[1, \"Return Flight\"], trip_df.at[1, \"Hotel Per Day\"], trip_df.at[1, \"Weekly Car Rent\"])\n",
    "dubaiWorth = worth_of_trip(budget, trip_df.at[2, \"Return Flight\"], trip_df.at[2, \"Hotel Per Day\"], trip_df.at[2, \"Weekly Car Rent\"])\n",
    "mumbaiWorth = worth_of_trip(budget, trip_df.at[3, \"Return Flight\"], trip_df.at[3, \"Hotel Per Day\"], trip_df.at[3, \"Weekly Car Rent\"])\n",
    "\n",
    "# Print the function\n",
    "print(\"If you have ${} of budget, you can stay {} days in {}\".format(budget, parisWorth, trip_df.at[0, \"Cities\"]))\n",
    "print(\"If you have ${} of budget, you can stay {} days in {}\".format(budget, londonWorth, trip_df.at[1, \"Cities\"]))\n",
    "print(\"If you have ${} of budget, you can stay {} days in {}\".format(budget, dubaiWorth, trip_df.at[2, \"Cities\"]))\n",
    "print(\"If you have ${} of budget, you can stay {} days in {}\".format(budget, mumbaiWorth, trip_df.at[3, \"Cities\"]), \"\\n\")\n",
    "\n",
    "# Or you can run it like this\n",
    "worthPlot = []\n",
    "for x in range((len(trip_df))):\n",
    "    tripWorth = worth_of_trip(budget, trip_df.at[x, \"Return Flight\"], trip_df.at[x, \"Hotel Per Day\"], trip_df.at[x, \"Weekly Car Rent\"])\n",
    "    print(\"If you have budget of ${}, you can stay {} days in {}\".format(budget, tripWorth, trip_df.at[x, \"Cities\"]))\n",
    "    worthPlot.append(tripWorth)\n",
    "\n",
    "# Plot the Data\n",
    "plt.figure(figsize=(12,6))\n",
    "plt.bar(trip_df[\"Cities\"], worthPlot, width=0.4)    # or it can be .barh() for horizontal bar\n",
    "plt.xlabel(\"Cities\")\n",
    "plt.ylabel(\"Days to Spent\")\n",
    "plt.grid(True)\n",
    "plt.title(\"Number of Days To Spent If You Have ${}\".format(budget))"
   ]
  }
 ],
 "metadata": {
  "interpreter": {
   "hash": "aaa2d32309aa7ce0f397d0e81903e050bd163767a22d0d109bd73d79b6cf4dfe"
  },
  "kernelspec": {
   "display_name": "Python 3.10.2 64-bit",
   "language": "python",
   "name": "python3"
  },
  "language_info": {
   "codemirror_mode": {
    "name": "ipython",
    "version": 3
   },
   "file_extension": ".py",
   "mimetype": "text/x-python",
   "name": "python",
   "nbconvert_exporter": "python",
   "pygments_lexer": "ipython3",
   "version": "3.10.2"
  },
  "orig_nbformat": 4
 },
 "nbformat": 4,
 "nbformat_minor": 2
}

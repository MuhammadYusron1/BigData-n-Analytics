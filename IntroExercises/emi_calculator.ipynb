{
 "cells": [
  {
   "cell_type": "markdown",
   "metadata": {},
   "source": [
    "Invoke the library"
   ]
  },
  {
   "cell_type": "code",
   "execution_count": 2,
   "metadata": {},
   "outputs": [],
   "source": [
    "import numpy as np\n",
    "import pandas as pd\n",
    "import math"
   ]
  },
  {
   "cell_type": "code",
   "execution_count": 8,
   "metadata": {},
   "outputs": [
    {
     "name": "stdout",
     "output_type": "stream",
     "text": [
      "    a  b\n",
      "0   5  7\n",
      "1  13  4    City1    City2\n",
      "0  Paris  Jakarta\n",
      "1  Tokyo    Seoul \n",
      "\n",
      "<class 'pandas.core.frame.DataFrame'>\n",
      "RangeIndex: 2 entries, 0 to 1\n",
      "Data columns (total 2 columns):\n",
      " #   Column  Non-Null Count  Dtype\n",
      "---  ------  --------------  -----\n",
      " 0   a       2 non-null      int32\n",
      " 1   b       2 non-null      int32\n",
      "dtypes: int32(2)\n",
      "memory usage: 144.0 bytes\n",
      "<class 'pandas.core.frame.DataFrame'>\n",
      "RangeIndex: 2 entries, 0 to 1\n",
      "Data columns (total 2 columns):\n",
      " #   Column  Non-Null Count  Dtype \n",
      "---  ------  --------------  ----- \n",
      " 0   City1   2 non-null      object\n",
      " 1   City2   2 non-null      object\n",
      "dtypes: object(2)\n",
      "memory usage: 160.0+ bytes\n",
      "None None \n",
      "\n",
      "               a        b\n",
      "count   2.000000  2.00000\n",
      "mean    9.000000  5.50000\n",
      "std     5.656854  2.12132\n",
      "min     5.000000  4.00000\n",
      "25%     7.000000  4.75000\n",
      "50%     9.000000  5.50000\n",
      "75%    11.000000  6.25000\n",
      "max    13.000000  7.00000 (2, 2) \n",
      "\n"
     ]
    }
   ],
   "source": [
    "dt1 = np.array([(5,7), (13,4)], dtype=[('a', '<i4'), ('b', '<i4')])\n",
    "df1 = pd.DataFrame(dt1)\n",
    "\n",
    "dt2 = np.array([('Paris','Jakarta'), ('Tokyo','Seoul')], dtype=[('City1', 'U25'), ('City2', 'U25')])\n",
    "df2 = pd.DataFrame(dt2)\n",
    "\n",
    "print(df1, df2, \"\\n\")\n",
    "print(df1.info(), df2.info(), \"\\n\")\n",
    "print(df1.describe(), df2.shape, \"\\n\")"
   ]
  },
  {
   "cell_type": "markdown",
   "metadata": {},
   "source": [
    "EMI Calculator"
   ]
  },
  {
   "cell_type": "code",
   "execution_count": 3,
   "metadata": {},
   "outputs": [],
   "source": [
    "# Simple EMI Calculator Function for house leasing\n",
    "def loan_emi(amount, duration, rate, down_payment=0):\n",
    "    \"\"\"This is a simple EMI calculator function that calculates\n",
    "\n",
    "    Args:\n",
    "        amount (int): The amount of price to be paid (loan + down payment)\n",
    "        duration (int): Duration of the loan (in months)\n",
    "        rate (float): Rate of interest (monthly)\n",
    "        down_payment (int, optional): Optional initial payment. Defaults to 0.\n",
    "\n",
    "    Returns:\n",
    "        int: Number of monthly amount to be paid\n",
    "    \"\"\"\n",
    "    loan_amount = amount - down_payment\n",
    "    emi = loan_amount * rate * ((1+rate)**duration) / (((1+rate)**duration)-1)\n",
    "    emi = math.ceil(emi)\n",
    "    return emi"
   ]
  },
  {
   "cell_type": "code",
   "execution_count": 4,
   "metadata": {},
   "outputs": [],
   "source": [
    "# Option 1 of Payment\n",
    "loanAmount1 = 900_000_000\n",
    "dur1 = 8*12\n",
    "rate1 = 0.08/12\n",
    "dp1 = 100_000_000\n",
    "\n",
    "# Option 2 of Payment\n",
    "loanAmount2 = 900_000_000\n",
    "dur2 = 10*12\n",
    "rate2 = 0.12/12\n",
    "dp2 = 50_000_000"
   ]
  },
  {
   "cell_type": "code",
   "execution_count": 5,
   "metadata": {},
   "outputs": [
    {
     "name": "stdout",
     "output_type": "stream",
     "text": [
      "The EMI 1 is Rp.11309344\n",
      "The EMI 2 is Rp.12195031 \n",
      "\n",
      "Option 1 has the lower EMI\n"
     ]
    }
   ],
   "source": [
    "# Execute the function\n",
    "emi1 = loan_emi(amount=loanAmount1, duration=dur1, rate=rate1, down_payment=dp1)\n",
    "emi2 = loan_emi(amount=loanAmount2, duration=dur2, rate=rate2, down_payment=dp2)\n",
    "\n",
    "# Print the function\n",
    "print(\"The EMI 1 is Rp.{}\".format(emi1))\n",
    "print(\"The EMI 2 is Rp.{}\".format(emi2), \"\\n\")\n",
    "\n",
    "# Compare which Option has the lower EMI\n",
    "if emi1 < emi2:\n",
    "    print(\"Option 1 has the lower EMI\")\n",
    "else:\n",
    "    print(\"Option 2 has the lower EMI\")"
   ]
  },
  {
   "cell_type": "markdown",
   "metadata": {},
   "source": [
    "Advanced EMI Calculator"
   ]
  },
  {
   "cell_type": "code",
   "execution_count": 6,
   "metadata": {},
   "outputs": [],
   "source": [
    "# This function has the ability to calculate interest payment for car leasing\n",
    "def loan_emi2(amount, duration, rate, down_payment=0):\n",
    "    \"\"\"You can also calculate 0% interest in this function\n",
    "\n",
    "    Args:\n",
    "        amount (int): The amount of price to be paid (loan + down payment)\n",
    "        duration (int): Duration of the loan (in months)\n",
    "        rate (float): Rate of interest (monthly)\n",
    "        down_payment (int, optional): Optional initial payment. Defaults to 0.\n",
    "\n",
    "    Returns:\n",
    "        int: Number of monthly amount to be paid\n",
    "    \"\"\"\n",
    "    loan_amount = amount - down_payment\n",
    "    try:\n",
    "        emi = loan_amount * rate * ((1+rate)**duration) / (((1+rate)**duration)-1)\n",
    "    except ZeroDivisionError:       # use this formula if the rate is 0%\n",
    "        emi = loan_amount / duration\n",
    "    emi = math.ceil(emi)\n",
    "    return emi"
   ]
  },
  {
   "cell_type": "code",
   "execution_count": 7,
   "metadata": {},
   "outputs": [],
   "source": [
    "# Option 1 of Payment\n",
    "loanAmount3 = 260_000_000\n",
    "dur3 = 4*12\n",
    "rate3 = 0.3/12\n",
    "dp3 = 30_000_000\n",
    "\n",
    "# Option 2 of Payment\n",
    "loanAmount4 = 260_000_000\n",
    "dur4 = 5*12\n",
    "rate4 = 0.7/12\n",
    "dp4 = 50_000_000"
   ]
  },
  {
   "cell_type": "code",
   "execution_count": 8,
   "metadata": {},
   "outputs": [
    {
     "name": "stdout",
     "output_type": "stream",
     "text": [
      "The EMI 3 is Rp.8281379\n",
      "The EMI 4 is Rp.12672186 \n",
      "\n",
      "Option 3 has the lower EMI\n"
     ]
    }
   ],
   "source": [
    "# Execute the function\n",
    "emi3 = loan_emi2(amount=loanAmount3, duration=dur3, rate=rate3, down_payment=dp3)\n",
    "emi4 = loan_emi2(amount=loanAmount4, duration=dur4, rate=rate4, down_payment=dp4)\n",
    "\n",
    "# Print the function\n",
    "print(\"The EMI 3 is Rp.{}\".format(emi3))\n",
    "print(\"The EMI 4 is Rp.{}\".format(emi4), \"\\n\")\n",
    "\n",
    "# Compare which Option has the lower EMI\n",
    "if emi3 < emi4:\n",
    "    print(\"Option 3 has the lower EMI\")\n",
    "else:\n",
    "    print(\"Option 4 has the lower EMI\")"
   ]
  },
  {
   "cell_type": "code",
   "execution_count": 13,
   "metadata": {},
   "outputs": [],
   "source": [
    "carLoanAmount = 260_000_000\n",
    "dur5 = 5*12\n",
    "dp5 = 30_000_000\n",
    "\n",
    "# Payment with interest\n",
    "w_rate = 0.6/12       \n",
    "\n",
    "# Payment without interest\n",
    "wo_rate = 0./12         # rate is 0%"
   ]
  },
  {
   "cell_type": "code",
   "execution_count": 14,
   "metadata": {},
   "outputs": [
    {
     "name": "stdout",
     "output_type": "stream",
     "text": [
      "The EMI with interest is Rp.12150483\n",
      "The EMI without interest is Rp.3833334 \n",
      "\n",
      "The total interest paid is Rp.8317149.\n"
     ]
    }
   ],
   "source": [
    "# Execute the function\n",
    "emi_w_rate = loan_emi2(amount=carLoanAmount, duration=dur5, rate=w_rate, down_payment=dp5)\n",
    "emi_wo_rate = loan_emi2(amount=carLoanAmount, duration=dur5, rate=wo_rate, down_payment=dp5)\n",
    "\n",
    "# Print the function\n",
    "print(\"The EMI with interest is Rp.{}\".format(emi_w_rate))\n",
    "print(\"The EMI without interest is Rp.{}\".format(emi_wo_rate), \"\\n\")\n",
    "\n",
    "# Calculate and print the interest only\n",
    "total_interest = (emi_w_rate - emi_wo_rate)\n",
    "print(\"The total interest paid is Rp.{}.\".format(total_interest))"
   ]
  }
 ],
 "metadata": {
  "interpreter": {
   "hash": "aaa2d32309aa7ce0f397d0e81903e050bd163767a22d0d109bd73d79b6cf4dfe"
  },
  "kernelspec": {
   "display_name": "Python 3.10.2 64-bit",
   "language": "python",
   "name": "python3"
  },
  "language_info": {
   "codemirror_mode": {
    "name": "ipython",
    "version": 3
   },
   "file_extension": ".py",
   "mimetype": "text/x-python",
   "name": "python",
   "nbconvert_exporter": "python",
   "pygments_lexer": "ipython3",
   "version": "3.10.2"
  },
  "orig_nbformat": 4
 },
 "nbformat": 4,
 "nbformat_minor": 2
}

{
 "cells": [
  {
   "cell_type": "markdown",
   "metadata": {},
   "source": [
    "# Analyzing Tabular Data using Python and Pandas\n",
    "## Importing Library and Reading CSV File"
   ]
  },
  {
   "cell_type": "code",
   "execution_count": 33,
   "metadata": {},
   "outputs": [
    {
     "name": "stdout",
     "output_type": "stream",
     "text": [
      "           date  new_cases  new_deaths  new_tests\n",
      "0    2019-12-31        0.0         0.0        NaN\n",
      "1    2020-01-01        0.0         0.0        NaN\n",
      "2    2020-01-02        0.0         0.0        NaN\n",
      "3    2020-01-03        0.0         0.0        NaN\n",
      "4    2020-01-04        0.0         0.0        NaN\n",
      "..          ...        ...         ...        ...\n",
      "243  2020-08-30     1444.0         1.0    53541.0\n",
      "244  2020-08-31     1365.0         4.0    42583.0\n",
      "245  2020-09-01      996.0         6.0    54395.0\n",
      "246  2020-09-02      975.0         8.0        NaN\n",
      "247  2020-09-03     1326.0         6.0        NaN\n",
      "\n",
      "[248 rows x 4 columns]\n"
     ]
    }
   ],
   "source": [
    "import numpy as np\n",
    "import pandas as pd\n",
    "import matplotlib.pyplot as plt\n",
    "\n",
    "covid_df = pd.read_csv(\"italy-covid-daywise.csv\")\n",
    "print(covid_df)"
   ]
  },
  {
   "cell_type": "markdown",
   "metadata": {},
   "source": [
    "## Retrieving data from DataFrame"
   ]
  },
  {
   "cell_type": "code",
   "execution_count": 34,
   "metadata": {},
   "outputs": [
    {
     "name": "stdout",
     "output_type": "stream",
     "text": [
      "0         0.0\n",
      "1         0.0\n",
      "2         0.0\n",
      "3         0.0\n",
      "4         0.0\n",
      "        ...  \n",
      "243    1444.0\n",
      "244    1365.0\n",
      "245     996.0\n",
      "246     975.0\n",
      "247    1326.0\n",
      "Name: new_cases, Length: 248, dtype: float64\n",
      "382.0\n",
      "date          2020-03-17\n",
      "new_cases         4000.0\n",
      "new_deaths         347.0\n",
      "new_tests            NaN\n",
      "Name: 77, dtype: object\n",
      "27569.0\n",
      "           date  new_cases\n",
      "0    2019-12-31        0.0\n",
      "1    2020-01-01        0.0\n",
      "2    2020-01-02        0.0\n",
      "3    2020-01-03        0.0\n",
      "4    2020-01-04        0.0\n",
      "..          ...        ...\n",
      "243  2020-08-30     1444.0\n",
      "244  2020-08-31     1365.0\n",
      "245  2020-09-01      996.0\n",
      "246  2020-09-02      975.0\n",
      "247  2020-09-03     1326.0\n",
      "\n",
      "[248 rows x 2 columns]\n"
     ]
    }
   ],
   "source": [
    "# Print a Column\n",
    "print(covid_df[\"new_cases\"])\n",
    "\n",
    "# Print a specific value in Row and Column\n",
    "print(covid_df[\"new_deaths\"][120])\n",
    "\n",
    "# Print all values in a Row\n",
    "print(covid_df.loc[77])\n",
    "\n",
    "# Another form of print a specific value in Row and Column\n",
    "print(covid_df.at[200, \"new_tests\"])\n",
    "\n",
    "# Print 2 Column\n",
    "print(covid_df[['date', 'new_cases']])"
   ]
  },
  {
   "cell_type": "markdown",
   "metadata": {},
   "source": [
    "## Analyzing data from data frames"
   ]
  },
  {
   "cell_type": "markdown",
   "metadata": {},
   "source": [
    "Q: What are the total number of reported cases and deaths related to Covid-19 in Italy?"
   ]
  },
  {
   "cell_type": "code",
   "execution_count": 35,
   "metadata": {},
   "outputs": [
    {
     "name": "stdout",
     "output_type": "stream",
     "text": [
      "The number of reported cases is 271515 and the number of reported deaths is 35497.\n"
     ]
    }
   ],
   "source": [
    "total_cases = covid_df.new_cases.sum()\n",
    "total_deaths = covid_df.new_deaths.sum()\n",
    "\n",
    "print('The number of reported cases is {} and the number of reported deaths is {}.'.format(int(total_cases), int(total_deaths)))"
   ]
  },
  {
   "cell_type": "markdown",
   "metadata": {},
   "source": [
    "Q: What is the overall death rate (ratio of reported deaths to reported cases)?"
   ]
  },
  {
   "cell_type": "code",
   "execution_count": 36,
   "metadata": {},
   "outputs": [
    {
     "name": "stdout",
     "output_type": "stream",
     "text": [
      "The overall reported death rate in Italy is 13.07 %.\n"
     ]
    }
   ],
   "source": [
    "death_rate = covid_df.new_deaths.sum() / covid_df.new_cases.sum()\n",
    "\n",
    "print(\"The overall reported death rate in Italy is {:.2f} %.\".format(death_rate*100))"
   ]
  },
  {
   "cell_type": "markdown",
   "metadata": {},
   "source": [
    "Q: What is the overall number of tests conducted? A total of 935310 tests were conducted before daily test numbers were reported"
   ]
  },
  {
   "cell_type": "code",
   "execution_count": 37,
   "metadata": {},
   "outputs": [
    {
     "name": "stdout",
     "output_type": "stream",
     "text": [
      "5214766.0\n"
     ]
    }
   ],
   "source": [
    "initial_tests = 935310\n",
    "total_tests = initial_tests + covid_df.new_tests.sum()\n",
    "\n",
    "print(total_tests)"
   ]
  },
  {
   "cell_type": "markdown",
   "metadata": {},
   "source": [
    "Q: What fraction of tests returned a positive result?"
   ]
  },
  {
   "cell_type": "code",
   "execution_count": 38,
   "metadata": {},
   "outputs": [
    {
     "name": "stdout",
     "output_type": "stream",
     "text": [
      "5.21% of tests in Italy led to a positive diagnosis.\n"
     ]
    }
   ],
   "source": [
    "positive_rate = total_cases / total_tests\n",
    "\n",
    "print('{:.2f}% of tests in Italy led to a positive diagnosis.'.format(positive_rate*100))"
   ]
  },
  {
   "cell_type": "markdown",
   "metadata": {},
   "source": [
    "## Querying and sorting rows"
   ]
  },
  {
   "cell_type": "markdown",
   "metadata": {},
   "source": [
    "Look only at the days which had more than 1000 reported cases"
   ]
  },
  {
   "cell_type": "code",
   "execution_count": 39,
   "metadata": {},
   "outputs": [
    {
     "name": "stdout",
     "output_type": "stream",
     "text": [
      "           date  new_cases  new_deaths  new_tests\n",
      "68   2020-03-08     1247.0        36.0        NaN\n",
      "69   2020-03-09     1492.0       133.0        NaN\n",
      "70   2020-03-10     1797.0        98.0        NaN\n",
      "72   2020-03-12     2313.0       196.0        NaN\n",
      "73   2020-03-13     2651.0       189.0        NaN\n",
      "..          ...        ...         ...        ...\n",
      "241  2020-08-28     1409.0         5.0    65135.0\n",
      "242  2020-08-29     1460.0         9.0    64294.0\n",
      "243  2020-08-30     1444.0         1.0    53541.0\n",
      "244  2020-08-31     1365.0         4.0    42583.0\n",
      "247  2020-09-03     1326.0         6.0        NaN\n",
      "\n",
      "[72 rows x 4 columns]\n"
     ]
    }
   ],
   "source": [
    "high_cases_df = covid_df[covid_df[\"new_cases\"] > 1000]\n",
    "\n",
    "print(high_cases_df)"
   ]
  },
  {
   "cell_type": "markdown",
   "metadata": {},
   "source": [
    "Determine the days when the ratio of cases reported to tests conducted is higher than the overall positive_rate."
   ]
  },
  {
   "cell_type": "code",
   "execution_count": 40,
   "metadata": {},
   "outputs": [
    {
     "name": "stdout",
     "output_type": "stream",
     "text": [
      "           date  new_cases  new_deaths  new_tests\n",
      "111  2020-04-20     3047.0       433.0     7841.0\n",
      "112  2020-04-21     2256.0       454.0    28095.0\n",
      "113  2020-04-22     2729.0       534.0    44248.0\n",
      "114  2020-04-23     3370.0       437.0    37083.0\n",
      "116  2020-04-25     3021.0       420.0    38676.0\n",
      "117  2020-04-26     2357.0       415.0    24113.0\n",
      "118  2020-04-27     2324.0       260.0    26678.0\n",
      "120  2020-04-29     2091.0       382.0    38589.0\n",
      "123  2020-05-02     1965.0       269.0    31231.0\n",
      "124  2020-05-03     1900.0       474.0    27047.0\n",
      "125  2020-05-04     1389.0       174.0    22999.0\n",
      "128  2020-05-07     1444.0       369.0    13665.0\n"
     ]
    }
   ],
   "source": [
    "high_ratio_df = covid_df[covid_df.new_cases / covid_df.new_tests > positive_rate]\n",
    "\n",
    "print(high_ratio_df)"
   ]
  },
  {
   "cell_type": "markdown",
   "metadata": {},
   "source": [
    "Add a new column (Positive Rate) to the data frame"
   ]
  },
  {
   "cell_type": "code",
   "execution_count": 41,
   "metadata": {},
   "outputs": [
    {
     "name": "stdout",
     "output_type": "stream",
     "text": [
      "           date  new_cases  new_deaths  new_tests  positive_rate\n",
      "0    2019-12-31        0.0         0.0        NaN            NaN\n",
      "1    2020-01-01        0.0         0.0        NaN            NaN\n",
      "2    2020-01-02        0.0         0.0        NaN            NaN\n",
      "3    2020-01-03        0.0         0.0        NaN            NaN\n",
      "4    2020-01-04        0.0         0.0        NaN            NaN\n",
      "..          ...        ...         ...        ...            ...\n",
      "243  2020-08-30     1444.0         1.0    53541.0       0.026970\n",
      "244  2020-08-31     1365.0         4.0    42583.0       0.032055\n",
      "245  2020-09-01      996.0         6.0    54395.0       0.018311\n",
      "246  2020-09-02      975.0         8.0        NaN            NaN\n",
      "247  2020-09-03     1326.0         6.0        NaN            NaN\n",
      "\n",
      "[248 rows x 5 columns]\n"
     ]
    }
   ],
   "source": [
    "covid_df['positive_rate'] = covid_df.new_cases / covid_df.new_tests\n",
    "\n",
    "print(covid_df)"
   ]
  },
  {
   "cell_type": "markdown",
   "metadata": {},
   "source": [
    "Remove the positive_rate column using the drop method"
   ]
  },
  {
   "cell_type": "code",
   "execution_count": 42,
   "metadata": {},
   "outputs": [
    {
     "name": "stdout",
     "output_type": "stream",
     "text": [
      "           date  new_cases  new_deaths  new_tests\n",
      "0    2019-12-31        0.0         0.0        NaN\n",
      "1    2020-01-01        0.0         0.0        NaN\n",
      "2    2020-01-02        0.0         0.0        NaN\n",
      "3    2020-01-03        0.0         0.0        NaN\n",
      "4    2020-01-04        0.0         0.0        NaN\n",
      "..          ...        ...         ...        ...\n",
      "243  2020-08-30     1444.0         1.0    53541.0\n",
      "244  2020-08-31     1365.0         4.0    42583.0\n",
      "245  2020-09-01      996.0         6.0    54395.0\n",
      "246  2020-09-02      975.0         8.0        NaN\n",
      "247  2020-09-03     1326.0         6.0        NaN\n",
      "\n",
      "[248 rows x 4 columns]\n"
     ]
    }
   ],
   "source": [
    "covid_df.drop(columns=['positive_rate'], inplace=True)\n",
    "\n",
    "print(covid_df)"
   ]
  },
  {
   "cell_type": "markdown",
   "metadata": {},
   "source": [
    "Sorting rows using column values"
   ]
  },
  {
   "cell_type": "code",
   "execution_count": 43,
   "metadata": {},
   "outputs": [
    {
     "name": "stdout",
     "output_type": "stream",
     "text": [
      "          date  new_cases  new_deaths  new_tests\n",
      "82  2020-03-22     6557.0       795.0        NaN\n",
      "87  2020-03-27     6153.0       660.0        NaN\n",
      "81  2020-03-21     5986.0       625.0        NaN\n",
      "89  2020-03-29     5974.0       887.0        NaN\n",
      "88  2020-03-28     5959.0       971.0        NaN\n",
      "83  2020-03-23     5560.0       649.0        NaN\n",
      "80  2020-03-20     5322.0       429.0        NaN\n",
      "85  2020-03-25     5249.0       743.0        NaN\n",
      "90  2020-03-30     5217.0       758.0        NaN\n",
      "86  2020-03-26     5210.0       685.0        NaN\n"
     ]
    }
   ],
   "source": [
    "print(covid_df.sort_values('new_cases', ascending=False).head(10))      # Shows only 10 first rows"
   ]
  },
  {
   "cell_type": "markdown",
   "metadata": {},
   "source": [
    "Let's look at some days before and after Jun 20, 2020"
   ]
  },
  {
   "cell_type": "code",
   "execution_count": 44,
   "metadata": {},
   "outputs": [
    {
     "name": "stdout",
     "output_type": "stream",
     "text": [
      "           date  new_cases  new_deaths  new_tests\n",
      "169  2020-06-17      210.0        34.0    33957.0\n",
      "170  2020-06-18      328.0        43.0    32921.0\n",
      "171  2020-06-19      331.0        66.0    28570.0\n",
      "172  2020-06-20     -148.0        47.0    29875.0\n",
      "173  2020-06-21      264.0        49.0    24581.0\n",
      "174  2020-06-22      224.0        24.0    16152.0\n",
      "175  2020-06-23      221.0        23.0    23225.0\n"
     ]
    }
   ],
   "source": [
    "print(covid_df.loc[169:175])"
   ]
  },
  {
   "cell_type": "markdown",
   "metadata": {},
   "source": [
    "Replace data entry error (172, \"new_cases\") with the average of the values on the previous & next date"
   ]
  },
  {
   "cell_type": "code",
   "execution_count": 45,
   "metadata": {},
   "outputs": [
    {
     "name": "stdout",
     "output_type": "stream",
     "text": [
      "           date  new_cases  new_deaths  new_tests\n",
      "169  2020-06-17      210.0        34.0    33957.0\n",
      "170  2020-06-18      328.0        43.0    32921.0\n",
      "171  2020-06-19      331.0        66.0    28570.0\n",
      "172  2020-06-20      297.5        47.0    29875.0\n",
      "173  2020-06-21      264.0        49.0    24581.0\n",
      "174  2020-06-22      224.0        24.0    16152.0\n",
      "175  2020-06-23      221.0        23.0    23225.0\n"
     ]
    }
   ],
   "source": [
    "covid_df.at[172, 'new_cases'] = (covid_df.at[171, 'new_cases'] + covid_df.at[173, 'new_cases'])/2\n",
    "\n",
    "print(covid_df.loc[169:175])"
   ]
  },
  {
   "cell_type": "markdown",
   "metadata": {},
   "source": [
    "## Working with dates"
   ]
  },
  {
   "cell_type": "markdown",
   "metadata": {},
   "source": [
    "Convert the date (type : object) into a datetime column using the pd.to_datetime method"
   ]
  },
  {
   "cell_type": "code",
   "execution_count": 46,
   "metadata": {},
   "outputs": [
    {
     "name": "stdout",
     "output_type": "stream",
     "text": [
      "0     2019-12-31\n",
      "1     2020-01-01\n",
      "2     2020-01-02\n",
      "3     2020-01-03\n",
      "4     2020-01-04\n",
      "         ...    \n",
      "243   2020-08-30\n",
      "244   2020-08-31\n",
      "245   2020-09-01\n",
      "246   2020-09-02\n",
      "247   2020-09-03\n",
      "Name: date, Length: 248, dtype: datetime64[ns]\n"
     ]
    }
   ],
   "source": [
    "covid_df['date'] = pd.to_datetime(covid_df.date)\n",
    "\n",
    "print(covid_df[\"date\"])"
   ]
  },
  {
   "cell_type": "markdown",
   "metadata": {},
   "source": [
    "Extract different parts of the data into separate columns, using the DatetimeIndex"
   ]
  },
  {
   "cell_type": "code",
   "execution_count": 47,
   "metadata": {},
   "outputs": [
    {
     "name": "stdout",
     "output_type": "stream",
     "text": [
      "          date  new_cases  new_deaths  new_tests  year  month  day  weekday\n",
      "0   2019-12-31        0.0         0.0        NaN  2019     12   31        1\n",
      "1   2020-01-01        0.0         0.0        NaN  2020      1    1        2\n",
      "2   2020-01-02        0.0         0.0        NaN  2020      1    2        3\n",
      "3   2020-01-03        0.0         0.0        NaN  2020      1    3        4\n",
      "4   2020-01-04        0.0         0.0        NaN  2020      1    4        5\n",
      "..         ...        ...         ...        ...   ...    ...  ...      ...\n",
      "243 2020-08-30     1444.0         1.0    53541.0  2020      8   30        6\n",
      "244 2020-08-31     1365.0         4.0    42583.0  2020      8   31        0\n",
      "245 2020-09-01      996.0         6.0    54395.0  2020      9    1        1\n",
      "246 2020-09-02      975.0         8.0        NaN  2020      9    2        2\n",
      "247 2020-09-03     1326.0         6.0        NaN  2020      9    3        3\n",
      "\n",
      "[248 rows x 8 columns]\n"
     ]
    }
   ],
   "source": [
    "covid_df['year'] = pd.DatetimeIndex(covid_df.date).year\n",
    "covid_df['month'] = pd.DatetimeIndex(covid_df.date).month\n",
    "covid_df['day'] = pd.DatetimeIndex(covid_df.date).day\n",
    "covid_df['weekday'] = pd.DatetimeIndex(covid_df.date).weekday\n",
    "\n",
    "print(covid_df)"
   ]
  },
  {
   "cell_type": "markdown",
   "metadata": {},
   "source": [
    "Query the rows for May, choose a subset of columns, and use the sum method to aggregate each selected column's values"
   ]
  },
  {
   "cell_type": "code",
   "execution_count": 48,
   "metadata": {},
   "outputs": [
    {
     "name": "stdout",
     "output_type": "stream",
     "text": [
      "new_cases       29073.0\n",
      "new_deaths       5658.0\n",
      "new_tests     1078720.0\n",
      "dtype: float64\n",
      "<class 'pandas.core.series.Series'>\n"
     ]
    }
   ],
   "source": [
    "# Query the rows for May\n",
    "covid_df_may = covid_df[covid_df.month == 5]\n",
    "\n",
    "# Extract the subset of columns to be aggregated\n",
    "covid_df_may_metrics = covid_df_may[['new_cases', 'new_deaths', 'new_tests']]\n",
    "\n",
    "# Get the column-wise sum\n",
    "covid_may_totals = covid_df_may_metrics.sum()\n",
    "\n",
    "print(covid_may_totals)\n",
    "print(type(covid_may_totals))"
   ]
  },
  {
   "cell_type": "markdown",
   "metadata": {},
   "source": [
    "Check if the number of cases reported on Sundays is higher than the average number of cases reported every day"
   ]
  },
  {
   "cell_type": "code",
   "execution_count": 49,
   "metadata": {},
   "outputs": [
    {
     "name": "stdout",
     "output_type": "stream",
     "text": [
      "1096.6149193548388\n",
      "1247.2571428571428\n"
     ]
    }
   ],
   "source": [
    "# Overall average\n",
    "print(covid_df.new_cases.mean())\n",
    "\n",
    "# Average for Sundays\n",
    "print(covid_df[covid_df.weekday == 6].new_cases.mean())"
   ]
  },
  {
   "cell_type": "markdown",
   "metadata": {},
   "source": [
    "## Grouping and aggregation"
   ]
  },
  {
   "cell_type": "markdown",
   "metadata": {},
   "source": [
    "Summarize the day-wise data and create a new dataframe with month-wise data"
   ]
  },
  {
   "cell_type": "code",
   "execution_count": 91,
   "metadata": {},
   "outputs": [
    {
     "name": "stdout",
     "output_type": "stream",
     "text": [
      "[ 1  2  3  4  5  6  7  8  9 12]\n"
     ]
    },
    {
     "data": {
      "image/png": "[encoded data removed]",
      "text/plain": [
       "<Figure size 864x432 with 1 Axes>"
      ]
     },
     "metadata": {
      "needs_background": "light"
     },
     "output_type": "display_data"
    }
   ],
   "source": [
    "# We can use the groupby function to create a group for each month, select the columns we wish to aggregate, and aggregate them using the sum method\n",
    "covid_month_df = covid_df.groupby('month')[['new_cases', 'new_deaths', 'new_tests']].sum()\n",
    "covid_month = covid_df[\"month\"].sort_values().unique()\n",
    "\n",
    "print(covid_month)\n",
    "\n",
    "# Plotting the data\n",
    "fig, ax = plt.subplots(figsize=(12, 6))\n",
    "# ax.plot(covid_month, covid_month_df[\"new_tests\"], label=\"New Tests\")\n",
    "ax.plot(covid_month, covid_month_df[\"new_cases\"], 'x-', label=\"New Cases\")\n",
    "ax.plot(covid_month, covid_month_df[\"new_deaths\"], 'x-', label=\"New Deaths\")\n",
    "plt.grid(True)\n",
    "plt.title(\"Covid Summaries\")\n",
    "ax.legend()\n",
    "\n",
    "plt.show()"
   ]
  },
  {
   "cell_type": "markdown",
   "metadata": {},
   "source": [
    "Compute the average number of daily new cases, deaths, and tests for each month"
   ]
  },
  {
   "cell_type": "code",
   "execution_count": 51,
   "metadata": {},
   "outputs": [
    {
     "name": "stdout",
     "output_type": "stream",
     "text": [
      "         new_cases  new_deaths     new_tests\n",
      "month                                       \n",
      "1         0.096774    0.000000           NaN\n",
      "2        30.517241    0.724138           NaN\n",
      "3      3253.258065  373.225806           NaN\n",
      "4      3395.066667  536.366667  38144.636364\n",
      "5       937.838710  182.516129  34797.419355\n",
      "6       273.916667   46.800000  27678.466667\n",
      "7       216.838710   12.516129  25732.000000\n",
      "8       679.354839   11.129032  35442.064516\n",
      "9      1099.000000    6.666667  54395.000000\n",
      "12        0.000000    0.000000           NaN\n"
     ]
    }
   ],
   "source": [
    "covid_month_mean_df = covid_df.groupby('month')[['new_cases', 'new_deaths', 'new_tests']].mean()\n",
    "\n",
    "print(covid_month_mean_df)"
   ]
  },
  {
   "cell_type": "markdown",
   "metadata": {},
   "source": [
    "Cumulative sum of cases, tests, or death up to each row's date"
   ]
  },
  {
   "cell_type": "code",
   "execution_count": 52,
   "metadata": {},
   "outputs": [
    {
     "name": "stdout",
     "output_type": "stream",
     "text": [
      "          date  new_cases  new_deaths  new_tests  year  month  day  weekday  \\\n",
      "0   2019-12-31        0.0         0.0        NaN  2019     12   31        1   \n",
      "1   2020-01-01        0.0         0.0        NaN  2020      1    1        2   \n",
      "2   2020-01-02        0.0         0.0        NaN  2020      1    2        3   \n",
      "3   2020-01-03        0.0         0.0        NaN  2020      1    3        4   \n",
      "4   2020-01-04        0.0         0.0        NaN  2020      1    4        5   \n",
      "..         ...        ...         ...        ...   ...    ...  ...      ...   \n",
      "243 2020-08-30     1444.0         1.0    53541.0  2020      8   30        6   \n",
      "244 2020-08-31     1365.0         4.0    42583.0  2020      8   31        0   \n",
      "245 2020-09-01      996.0         6.0    54395.0  2020      9    1        1   \n",
      "246 2020-09-02      975.0         8.0        NaN  2020      9    2        2   \n",
      "247 2020-09-03     1326.0         6.0        NaN  2020      9    3        3   \n",
      "\n",
      "     total_cases  total_deaths  total_tests  \n",
      "0            0.0           0.0          NaN  \n",
      "1            0.0           0.0          NaN  \n",
      "2            0.0           0.0          NaN  \n",
      "3            0.0           0.0          NaN  \n",
      "4            0.0           0.0          NaN  \n",
      "..           ...           ...          ...  \n",
      "243     267298.5       35473.0    5117788.0  \n",
      "244     268663.5       35477.0    5160371.0  \n",
      "245     269659.5       35483.0    5214766.0  \n",
      "246     270634.5       35491.0          NaN  \n",
      "247     271960.5       35497.0          NaN  \n",
      "\n",
      "[248 rows x 11 columns]\n"
     ]
    }
   ],
   "source": [
    "covid_df['total_cases'] = covid_df.new_cases.cumsum()\n",
    "covid_df['total_deaths'] = covid_df.new_deaths.cumsum()\n",
    "covid_df['total_tests'] = covid_df.new_tests.cumsum() + initial_tests\n",
    "\n",
    "print(covid_df)"
   ]
  },
  {
   "cell_type": "markdown",
   "metadata": {},
   "source": [
    "## Merging data from multiple sources"
   ]
  },
  {
   "cell_type": "markdown",
   "metadata": {},
   "source": [
    "To determine other metrics like test per million, cases per million, etc., we require some more information about the country, viz. its population. Lets open another csv data"
   ]
  },
  {
   "cell_type": "code",
   "execution_count": 53,
   "metadata": {},
   "outputs": [
    {
     "name": "stdout",
     "output_type": "stream",
     "text": [
      "          location continent    population  life_expectancy  \\\n",
      "0      Afghanistan      Asia  3.892834e+07            64.83   \n",
      "1          Albania    Europe  2.877800e+06            78.57   \n",
      "2          Algeria    Africa  4.385104e+07            76.88   \n",
      "3          Andorra    Europe  7.726500e+04            83.73   \n",
      "4           Angola    Africa  3.286627e+07            61.15   \n",
      "..             ...       ...           ...              ...   \n",
      "207          Yemen      Asia  2.982597e+07            66.12   \n",
      "208         Zambia    Africa  1.838396e+07            63.89   \n",
      "209       Zimbabwe    Africa  1.486293e+07            61.49   \n",
      "210          World       NaN  7.794799e+09            72.58   \n",
      "211  International       NaN           NaN              NaN   \n",
      "\n",
      "     hospital_beds_per_thousand  gdp_per_capita  \n",
      "0                         0.500        1803.987  \n",
      "1                         2.890       11803.431  \n",
      "2                         1.900       13913.839  \n",
      "3                           NaN             NaN  \n",
      "4                           NaN        5819.495  \n",
      "..                          ...             ...  \n",
      "207                       0.700        1479.147  \n",
      "208                       2.000        3689.251  \n",
      "209                       1.700        1899.775  \n",
      "210                       2.705       15469.207  \n",
      "211                         NaN             NaN  \n",
      "\n",
      "[212 rows x 6 columns]\n",
      "   location continent  population  life_expectancy  \\\n",
      "97    Italy    Europe  60461828.0            83.51   \n",
      "\n",
      "    hospital_beds_per_thousand  gdp_per_capita  \n",
      "97                        3.18       35220.084  \n"
     ]
    }
   ],
   "source": [
    "locations_df = pd.read_csv('countries_health1.csv')\n",
    "\n",
    "print(locations_df)\n",
    "print(locations_df[locations_df[\"location\"] == \"Italy\"])"
   ]
  },
  {
   "cell_type": "markdown",
   "metadata": {},
   "source": [
    "We can merge this data into our existing data frame by adding more columns. However, to merge two data frames, we need at least one common column. Let's insert a `location` column in the `covid_df` dataframe with all values set to `\"Italy\"`."
   ]
  },
  {
   "cell_type": "code",
   "execution_count": 54,
   "metadata": {},
   "outputs": [
    {
     "name": "stdout",
     "output_type": "stream",
     "text": [
      "          date  new_cases  new_deaths  new_tests  year  month  day  weekday  \\\n",
      "0   2019-12-31        0.0         0.0        NaN  2019     12   31        1   \n",
      "1   2020-01-01        0.0         0.0        NaN  2020      1    1        2   \n",
      "2   2020-01-02        0.0         0.0        NaN  2020      1    2        3   \n",
      "3   2020-01-03        0.0         0.0        NaN  2020      1    3        4   \n",
      "4   2020-01-04        0.0         0.0        NaN  2020      1    4        5   \n",
      "..         ...        ...         ...        ...   ...    ...  ...      ...   \n",
      "243 2020-08-30     1444.0         1.0    53541.0  2020      8   30        6   \n",
      "244 2020-08-31     1365.0         4.0    42583.0  2020      8   31        0   \n",
      "245 2020-09-01      996.0         6.0    54395.0  2020      9    1        1   \n",
      "246 2020-09-02      975.0         8.0        NaN  2020      9    2        2   \n",
      "247 2020-09-03     1326.0         6.0        NaN  2020      9    3        3   \n",
      "\n",
      "     total_cases  total_deaths  total_tests location  \n",
      "0            0.0           0.0          NaN    Italy  \n",
      "1            0.0           0.0          NaN    Italy  \n",
      "2            0.0           0.0          NaN    Italy  \n",
      "3            0.0           0.0          NaN    Italy  \n",
      "4            0.0           0.0          NaN    Italy  \n",
      "..           ...           ...          ...      ...  \n",
      "243     267298.5       35473.0    5117788.0    Italy  \n",
      "244     268663.5       35477.0    5160371.0    Italy  \n",
      "245     269659.5       35483.0    5214766.0    Italy  \n",
      "246     270634.5       35491.0          NaN    Italy  \n",
      "247     271960.5       35497.0          NaN    Italy  \n",
      "\n",
      "[248 rows x 12 columns]\n"
     ]
    }
   ],
   "source": [
    "covid_df['location'] = \"Italy\"\n",
    "\n",
    "print(covid_df)"
   ]
  },
  {
   "cell_type": "markdown",
   "metadata": {},
   "source": [
    "Add the columns from locations_df into covid_df using the .merge method."
   ]
  },
  {
   "cell_type": "code",
   "execution_count": 55,
   "metadata": {},
   "outputs": [
    {
     "name": "stdout",
     "output_type": "stream",
     "text": [
      "          date  new_cases  new_deaths  new_tests  year  month  day  weekday  \\\n",
      "0   2019-12-31        0.0         0.0        NaN  2019     12   31        1   \n",
      "1   2020-01-01        0.0         0.0        NaN  2020      1    1        2   \n",
      "2   2020-01-02        0.0         0.0        NaN  2020      1    2        3   \n",
      "3   2020-01-03        0.0         0.0        NaN  2020      1    3        4   \n",
      "4   2020-01-04        0.0         0.0        NaN  2020      1    4        5   \n",
      "..         ...        ...         ...        ...   ...    ...  ...      ...   \n",
      "243 2020-08-30     1444.0         1.0    53541.0  2020      8   30        6   \n",
      "244 2020-08-31     1365.0         4.0    42583.0  2020      8   31        0   \n",
      "245 2020-09-01      996.0         6.0    54395.0  2020      9    1        1   \n",
      "246 2020-09-02      975.0         8.0        NaN  2020      9    2        2   \n",
      "247 2020-09-03     1326.0         6.0        NaN  2020      9    3        3   \n",
      "\n",
      "     total_cases  total_deaths  total_tests location continent  population  \\\n",
      "0            0.0           0.0          NaN    Italy    Europe  60461828.0   \n",
      "1            0.0           0.0          NaN    Italy    Europe  60461828.0   \n",
      "2            0.0           0.0          NaN    Italy    Europe  60461828.0   \n",
      "3            0.0           0.0          NaN    Italy    Europe  60461828.0   \n",
      "4            0.0           0.0          NaN    Italy    Europe  60461828.0   \n",
      "..           ...           ...          ...      ...       ...         ...   \n",
      "243     267298.5       35473.0    5117788.0    Italy    Europe  60461828.0   \n",
      "244     268663.5       35477.0    5160371.0    Italy    Europe  60461828.0   \n",
      "245     269659.5       35483.0    5214766.0    Italy    Europe  60461828.0   \n",
      "246     270634.5       35491.0          NaN    Italy    Europe  60461828.0   \n",
      "247     271960.5       35497.0          NaN    Italy    Europe  60461828.0   \n",
      "\n",
      "     life_expectancy  hospital_beds_per_thousand  gdp_per_capita  \n",
      "0              83.51                        3.18       35220.084  \n",
      "1              83.51                        3.18       35220.084  \n",
      "2              83.51                        3.18       35220.084  \n",
      "3              83.51                        3.18       35220.084  \n",
      "4              83.51                        3.18       35220.084  \n",
      "..               ...                         ...             ...  \n",
      "243            83.51                        3.18       35220.084  \n",
      "244            83.51                        3.18       35220.084  \n",
      "245            83.51                        3.18       35220.084  \n",
      "246            83.51                        3.18       35220.084  \n",
      "247            83.51                        3.18       35220.084  \n",
      "\n",
      "[248 rows x 17 columns]\n"
     ]
    }
   ],
   "source": [
    "merged_df = covid_df.merge(locations_df, on=\"location\")\n",
    "\n",
    "print(merged_df)"
   ]
  },
  {
   "cell_type": "markdown",
   "metadata": {},
   "source": [
    "Calculate metrics like cases per million, deaths per million, and tests per million"
   ]
  },
  {
   "cell_type": "code",
   "execution_count": 56,
   "metadata": {},
   "outputs": [
    {
     "name": "stdout",
     "output_type": "stream",
     "text": [
      "          date  new_cases  new_deaths  new_tests  year  month  day  weekday  \\\n",
      "0   2019-12-31        0.0         0.0        NaN  2019     12   31        1   \n",
      "1   2020-01-01        0.0         0.0        NaN  2020      1    1        2   \n",
      "2   2020-01-02        0.0         0.0        NaN  2020      1    2        3   \n",
      "3   2020-01-03        0.0         0.0        NaN  2020      1    3        4   \n",
      "4   2020-01-04        0.0         0.0        NaN  2020      1    4        5   \n",
      "..         ...        ...         ...        ...   ...    ...  ...      ...   \n",
      "243 2020-08-30     1444.0         1.0    53541.0  2020      8   30        6   \n",
      "244 2020-08-31     1365.0         4.0    42583.0  2020      8   31        0   \n",
      "245 2020-09-01      996.0         6.0    54395.0  2020      9    1        1   \n",
      "246 2020-09-02      975.0         8.0        NaN  2020      9    2        2   \n",
      "247 2020-09-03     1326.0         6.0        NaN  2020      9    3        3   \n",
      "\n",
      "     total_cases  total_deaths  total_tests location continent  population  \\\n",
      "0            0.0           0.0          NaN    Italy    Europe  60461828.0   \n",
      "1            0.0           0.0          NaN    Italy    Europe  60461828.0   \n",
      "2            0.0           0.0          NaN    Italy    Europe  60461828.0   \n",
      "3            0.0           0.0          NaN    Italy    Europe  60461828.0   \n",
      "4            0.0           0.0          NaN    Italy    Europe  60461828.0   \n",
      "..           ...           ...          ...      ...       ...         ...   \n",
      "243     267298.5       35473.0    5117788.0    Italy    Europe  60461828.0   \n",
      "244     268663.5       35477.0    5160371.0    Italy    Europe  60461828.0   \n",
      "245     269659.5       35483.0    5214766.0    Italy    Europe  60461828.0   \n",
      "246     270634.5       35491.0          NaN    Italy    Europe  60461828.0   \n",
      "247     271960.5       35497.0          NaN    Italy    Europe  60461828.0   \n",
      "\n",
      "     life_expectancy  hospital_beds_per_thousand  gdp_per_capita  \\\n",
      "0              83.51                        3.18       35220.084   \n",
      "1              83.51                        3.18       35220.084   \n",
      "2              83.51                        3.18       35220.084   \n",
      "3              83.51                        3.18       35220.084   \n",
      "4              83.51                        3.18       35220.084   \n",
      "..               ...                         ...             ...   \n",
      "243            83.51                        3.18       35220.084   \n",
      "244            83.51                        3.18       35220.084   \n",
      "245            83.51                        3.18       35220.084   \n",
      "246            83.51                        3.18       35220.084   \n",
      "247            83.51                        3.18       35220.084   \n",
      "\n",
      "     cases_per_million  deaths_per_million  tests_per_million  \n",
      "0             0.000000            0.000000                NaN  \n",
      "1             0.000000            0.000000                NaN  \n",
      "2             0.000000            0.000000                NaN  \n",
      "3             0.000000            0.000000                NaN  \n",
      "4             0.000000            0.000000                NaN  \n",
      "..                 ...                 ...                ...  \n",
      "243        4420.946386          586.700753       84644.943252  \n",
      "244        4443.522614          586.766910       85349.238862  \n",
      "245        4459.995818          586.866146       86248.897403  \n",
      "246        4476.121695          586.998461                NaN  \n",
      "247        4498.052887          587.097697                NaN  \n",
      "\n",
      "[248 rows x 20 columns]\n"
     ]
    }
   ],
   "source": [
    "merged_df['cases_per_million'] = merged_df.total_cases * 1e6 / merged_df.population\n",
    "merged_df['deaths_per_million'] = merged_df.total_deaths * 1e6 / merged_df.population\n",
    "merged_df['tests_per_million'] = merged_df.total_tests * 1e6 / merged_df.population\n",
    "\n",
    "print(merged_df)"
   ]
  },
  {
   "cell_type": "markdown",
   "metadata": {},
   "source": [
    "## Writing data back to files"
   ]
  },
  {
   "cell_type": "code",
   "execution_count": 57,
   "metadata": {},
   "outputs": [
    {
     "name": "stdout",
     "output_type": "stream",
     "text": [
      "          date  new_cases  total_cases  new_deaths  total_deaths  new_tests  \\\n",
      "0   2019-12-31        0.0          0.0         0.0           0.0        NaN   \n",
      "1   2020-01-01        0.0          0.0         0.0           0.0        NaN   \n",
      "2   2020-01-02        0.0          0.0         0.0           0.0        NaN   \n",
      "3   2020-01-03        0.0          0.0         0.0           0.0        NaN   \n",
      "4   2020-01-04        0.0          0.0         0.0           0.0        NaN   \n",
      "..         ...        ...          ...         ...           ...        ...   \n",
      "243 2020-08-30     1444.0     267298.5         1.0       35473.0    53541.0   \n",
      "244 2020-08-31     1365.0     268663.5         4.0       35477.0    42583.0   \n",
      "245 2020-09-01      996.0     269659.5         6.0       35483.0    54395.0   \n",
      "246 2020-09-02      975.0     270634.5         8.0       35491.0        NaN   \n",
      "247 2020-09-03     1326.0     271960.5         6.0       35497.0        NaN   \n",
      "\n",
      "     total_tests  cases_per_million  deaths_per_million  tests_per_million  \n",
      "0            NaN           0.000000            0.000000                NaN  \n",
      "1            NaN           0.000000            0.000000                NaN  \n",
      "2            NaN           0.000000            0.000000                NaN  \n",
      "3            NaN           0.000000            0.000000                NaN  \n",
      "4            NaN           0.000000            0.000000                NaN  \n",
      "..           ...                ...                 ...                ...  \n",
      "243    5117788.0        4420.946386          586.700753       84644.943252  \n",
      "244    5160371.0        4443.522614          586.766910       85349.238862  \n",
      "245    5214766.0        4459.995818          586.866146       86248.897403  \n",
      "246          NaN        4476.121695          586.998461                NaN  \n",
      "247          NaN        4498.052887          587.097697                NaN  \n",
      "\n",
      "[248 rows x 10 columns]\n"
     ]
    }
   ],
   "source": [
    "result_df = merged_df[['date',\n",
    "                       'new_cases', \n",
    "                       'total_cases', \n",
    "                       'new_deaths', \n",
    "                       'total_deaths', \n",
    "                       'new_tests', \n",
    "                       'total_tests', \n",
    "                       'cases_per_million', \n",
    "                       'deaths_per_million', \n",
    "                       'tests_per_million']]\n",
    "\n",
    "print(result_df)"
   ]
  },
  {
   "cell_type": "markdown",
   "metadata": {},
   "source": [
    "Write the data from the data frame into a file"
   ]
  },
  {
   "cell_type": "code",
   "execution_count": 58,
   "metadata": {},
   "outputs": [],
   "source": [
    "# For storage limitting purpose, this function is commented out\n",
    "# result_df.to_csv('results.csv', index=None)"
   ]
  }
 ],
 "metadata": {
  "interpreter": {
   "hash": "aaa2d32309aa7ce0f397d0e81903e050bd163767a22d0d109bd73d79b6cf4dfe"
  },
  "kernelspec": {
   "display_name": "Python 3.10.2 64-bit",
   "language": "python",
   "name": "python3"
  },
  "language_info": {
   "codemirror_mode": {
    "name": "ipython",
    "version": 3
   },
   "file_extension": ".py",
   "mimetype": "text/x-python",
   "name": "python",
   "nbconvert_exporter": "python",
   "pygments_lexer": "ipython3",
   "version": "3.10.2"
  },
  "orig_nbformat": 4
 },
 "nbformat": 4,
 "nbformat_minor": 2
}
